{
 "cells": [
  {
   "cell_type": "code",
   "execution_count": 2,
   "id": "6aba1b39-7402-4448-8480-6558402e860d",
   "metadata": {},
   "outputs": [],
   "source": [
    "import pandas as pd\n",
    "import os "
   ]
  },
  {
   "cell_type": "code",
   "execution_count": 8,
   "id": "6c1c0018-7c97-490a-8cf3-10859b40d6ed",
   "metadata": {},
   "outputs": [],
   "source": [
    "bpath=os.path.join(os.getcwd(),'results_csv')\n",
    "dfs = [pd.read_csv(os.path.join(bpath,f),low_memory=False)\n",
    "        for f in os.listdir(bpath) if (f.endswith('csv') and ('all_res' not in f))]\n",
    "\n",
    "finaldf = pd.concat(dfs)\n",
    "finaldf.to_csv('./all_res.csv')"
   ]
  },
  {
   "cell_type": "code",
   "execution_count": null,
   "id": "31d3e1a5-9025-40a2-8394-2a80efc1db50",
   "metadata": {},
   "outputs": [],
   "source": []
  }
 ],
 "metadata": {
  "kernelspec": {
   "display_name": "Python 3",
   "language": "python",
   "name": "python3"
  },
  "language_info": {
   "codemirror_mode": {
    "name": "ipython",
    "version": 3
   },
   "file_extension": ".py",
   "mimetype": "text/x-python",
   "name": "python",
   "nbconvert_exporter": "python",
   "pygments_lexer": "ipython3",
   "version": "3.8.10"
  }
 },
 "nbformat": 4,
 "nbformat_minor": 5
}
